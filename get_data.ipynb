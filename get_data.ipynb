{
 "cells": [
  {
   "cell_type": "code",
   "execution_count": 4,
   "metadata": {},
   "outputs": [
    {
     "output_type": "execute_result",
     "data": {
      "text/plain": "           date      high      open       low     close        volume  \\\n0      2005/1/4   994.770   994.770   980.660   982.794  7.412869e+08   \n1      2005/1/5   997.320   981.580   979.880   992.564  7.119109e+08   \n2      2005/1/6   993.790   993.330   980.330   983.174  6.288029e+08   \n3      2005/1/7   995.710   983.050   979.810   983.958  7.298694e+08   \n4     2005/1/10   993.960   983.760   979.790   993.879  5.791698e+08   \n...         ...       ...       ...       ...       ...           ...   \n3579  2019/9/23  3925.185  3925.185  3868.214  3890.661  9.403622e+09   \n3580  2019/9/24  3927.011  3895.866  3886.140  3901.075  8.778323e+09   \n3581  2019/9/25  3889.839  3887.554  3867.227  3870.983  8.952083e+09   \n3582  2019/9/26  3890.745  3884.702  3840.247  3841.138  1.026983e+10   \n3583  2019/9/27  3859.500  3843.458  3832.246  3852.653  7.400395e+09   \n\n            amount  \n0     4.431977e+09  \n1     4.529208e+09  \n2     3.921015e+09  \n3     4.737469e+09  \n4     3.762933e+09  \n...            ...  \n3579  1.392235e+11  \n3580  1.423414e+11  \n3581  1.332245e+11  \n3582  1.508067e+11  \n3583  1.091305e+11  \n\n[3584 rows x 7 columns]",
      "text/html": "<div>\n<style scoped>\n    .dataframe tbody tr th:only-of-type {\n        vertical-align: middle;\n    }\n\n    .dataframe tbody tr th {\n        vertical-align: top;\n    }\n\n    .dataframe thead th {\n        text-align: right;\n    }\n</style>\n<table border=\"1\" class=\"dataframe\">\n  <thead>\n    <tr style=\"text-align: right;\">\n      <th></th>\n      <th>date</th>\n      <th>high</th>\n      <th>open</th>\n      <th>low</th>\n      <th>close</th>\n      <th>volume</th>\n      <th>amount</th>\n    </tr>\n  </thead>\n  <tbody>\n    <tr>\n      <th>0</th>\n      <td>2005/1/4</td>\n      <td>994.770</td>\n      <td>994.770</td>\n      <td>980.660</td>\n      <td>982.794</td>\n      <td>7.412869e+08</td>\n      <td>4.431977e+09</td>\n    </tr>\n    <tr>\n      <th>1</th>\n      <td>2005/1/5</td>\n      <td>997.320</td>\n      <td>981.580</td>\n      <td>979.880</td>\n      <td>992.564</td>\n      <td>7.119109e+08</td>\n      <td>4.529208e+09</td>\n    </tr>\n    <tr>\n      <th>2</th>\n      <td>2005/1/6</td>\n      <td>993.790</td>\n      <td>993.330</td>\n      <td>980.330</td>\n      <td>983.174</td>\n      <td>6.288029e+08</td>\n      <td>3.921015e+09</td>\n    </tr>\n    <tr>\n      <th>3</th>\n      <td>2005/1/7</td>\n      <td>995.710</td>\n      <td>983.050</td>\n      <td>979.810</td>\n      <td>983.958</td>\n      <td>7.298694e+08</td>\n      <td>4.737469e+09</td>\n    </tr>\n    <tr>\n      <th>4</th>\n      <td>2005/1/10</td>\n      <td>993.960</td>\n      <td>983.760</td>\n      <td>979.790</td>\n      <td>993.879</td>\n      <td>5.791698e+08</td>\n      <td>3.762933e+09</td>\n    </tr>\n    <tr>\n      <th>...</th>\n      <td>...</td>\n      <td>...</td>\n      <td>...</td>\n      <td>...</td>\n      <td>...</td>\n      <td>...</td>\n      <td>...</td>\n    </tr>\n    <tr>\n      <th>3579</th>\n      <td>2019/9/23</td>\n      <td>3925.185</td>\n      <td>3925.185</td>\n      <td>3868.214</td>\n      <td>3890.661</td>\n      <td>9.403622e+09</td>\n      <td>1.392235e+11</td>\n    </tr>\n    <tr>\n      <th>3580</th>\n      <td>2019/9/24</td>\n      <td>3927.011</td>\n      <td>3895.866</td>\n      <td>3886.140</td>\n      <td>3901.075</td>\n      <td>8.778323e+09</td>\n      <td>1.423414e+11</td>\n    </tr>\n    <tr>\n      <th>3581</th>\n      <td>2019/9/25</td>\n      <td>3889.839</td>\n      <td>3887.554</td>\n      <td>3867.227</td>\n      <td>3870.983</td>\n      <td>8.952083e+09</td>\n      <td>1.332245e+11</td>\n    </tr>\n    <tr>\n      <th>3582</th>\n      <td>2019/9/26</td>\n      <td>3890.745</td>\n      <td>3884.702</td>\n      <td>3840.247</td>\n      <td>3841.138</td>\n      <td>1.026983e+10</td>\n      <td>1.508067e+11</td>\n    </tr>\n    <tr>\n      <th>3583</th>\n      <td>2019/9/27</td>\n      <td>3859.500</td>\n      <td>3843.458</td>\n      <td>3832.246</td>\n      <td>3852.653</td>\n      <td>7.400395e+09</td>\n      <td>1.091305e+11</td>\n    </tr>\n  </tbody>\n</table>\n<p>3584 rows × 7 columns</p>\n</div>"
     },
     "metadata": {},
     "execution_count": 4
    }
   ],
   "source": [
    "import pandas as pd\n",
    "import numpy as np\n",
    "\n",
    "df=pd.read_csv('./data/choice_hs300.csv')\n",
    "df"
   ]
  },
  {
   "cell_type": "code",
   "execution_count": 5,
   "metadata": {},
   "outputs": [],
   "source": [
    "df['pre_close']=df['close'].shift(1)\n",
    "df.iloc[0,7]=982.794\n",
    "df['max_up_p']=(df['high']-df['pre_close'])/df['pre_close']\n",
    "df['max_down_p']=(df['low']-df['pre_close'])/df['pre_close']\n",
    "df['close_p']=(df['close']-df['pre_close'])/df['pre_close']\n",
    "df=df[['close','volume','max_up_p','max_down_p','close_p']]"
   ]
  },
  {
   "cell_type": "code",
   "execution_count": 7,
   "metadata": {},
   "outputs": [],
   "source": [
    "df.to_csv('./data/hs300_processed.csv')"
   ]
  },
  {
   "cell_type": "code",
   "execution_count": 22,
   "metadata": {},
   "outputs": [
    {
     "output_type": "execute_result",
     "data": {
      "text/plain": "            volume  max_up_p  max_down_p   close_p\n0     7.412869e+08  0.012186   -0.002171  0.000000\n1     7.119109e+08  0.014780   -0.002965  0.009941\n2     6.288029e+08  0.001235   -0.012326 -0.009460\n3     7.298694e+08  0.012751   -0.003422  0.000797\n4     5.791698e+08  0.010165   -0.004236  0.010083\n...            ...       ...         ...       ...\n3579  9.403622e+09 -0.002659   -0.017135 -0.011431\n3580  8.778323e+09  0.009343   -0.001162  0.002677\n3581  8.952083e+09 -0.002880   -0.008677 -0.007714\n3582  1.026983e+10  0.005105   -0.007940 -0.007710\n3583  7.400395e+09  0.004780   -0.002315  0.002998\n\n[3584 rows x 4 columns]",
      "text/html": "<div>\n<style scoped>\n    .dataframe tbody tr th:only-of-type {\n        vertical-align: middle;\n    }\n\n    .dataframe tbody tr th {\n        vertical-align: top;\n    }\n\n    .dataframe thead th {\n        text-align: right;\n    }\n</style>\n<table border=\"1\" class=\"dataframe\">\n  <thead>\n    <tr style=\"text-align: right;\">\n      <th></th>\n      <th>volume</th>\n      <th>max_up_p</th>\n      <th>max_down_p</th>\n      <th>close_p</th>\n    </tr>\n  </thead>\n  <tbody>\n    <tr>\n      <th>0</th>\n      <td>7.412869e+08</td>\n      <td>0.012186</td>\n      <td>-0.002171</td>\n      <td>0.000000</td>\n    </tr>\n    <tr>\n      <th>1</th>\n      <td>7.119109e+08</td>\n      <td>0.014780</td>\n      <td>-0.002965</td>\n      <td>0.009941</td>\n    </tr>\n    <tr>\n      <th>2</th>\n      <td>6.288029e+08</td>\n      <td>0.001235</td>\n      <td>-0.012326</td>\n      <td>-0.009460</td>\n    </tr>\n    <tr>\n      <th>3</th>\n      <td>7.298694e+08</td>\n      <td>0.012751</td>\n      <td>-0.003422</td>\n      <td>0.000797</td>\n    </tr>\n    <tr>\n      <th>4</th>\n      <td>5.791698e+08</td>\n      <td>0.010165</td>\n      <td>-0.004236</td>\n      <td>0.010083</td>\n    </tr>\n    <tr>\n      <th>...</th>\n      <td>...</td>\n      <td>...</td>\n      <td>...</td>\n      <td>...</td>\n    </tr>\n    <tr>\n      <th>3579</th>\n      <td>9.403622e+09</td>\n      <td>-0.002659</td>\n      <td>-0.017135</td>\n      <td>-0.011431</td>\n    </tr>\n    <tr>\n      <th>3580</th>\n      <td>8.778323e+09</td>\n      <td>0.009343</td>\n      <td>-0.001162</td>\n      <td>0.002677</td>\n    </tr>\n    <tr>\n      <th>3581</th>\n      <td>8.952083e+09</td>\n      <td>-0.002880</td>\n      <td>-0.008677</td>\n      <td>-0.007714</td>\n    </tr>\n    <tr>\n      <th>3582</th>\n      <td>1.026983e+10</td>\n      <td>0.005105</td>\n      <td>-0.007940</td>\n      <td>-0.007710</td>\n    </tr>\n    <tr>\n      <th>3583</th>\n      <td>7.400395e+09</td>\n      <td>0.004780</td>\n      <td>-0.002315</td>\n      <td>0.002998</td>\n    </tr>\n  </tbody>\n</table>\n<p>3584 rows × 4 columns</p>\n</div>"
     },
     "metadata": {},
     "execution_count": 22
    }
   ],
   "source": [
    "df1=df\n",
    "x=[0]\n",
    "df1.drop(df1.columns[x],axis=1)"
   ]
  },
  {
   "cell_type": "code",
   "execution_count": 18,
   "metadata": {},
   "outputs": [
    {
     "output_type": "execute_result",
     "data": {
      "text/plain": "Index(['volume', 'max_up_p'], dtype='object')"
     },
     "metadata": {},
     "execution_count": 18
    }
   ],
   "source": [
    "df1.columns[[1,2]]"
   ]
  },
  {
   "cell_type": "code",
   "execution_count": null,
   "metadata": {},
   "outputs": [],
   "source": []
  }
 ],
 "metadata": {
  "language_info": {
   "codemirror_mode": {
    "name": "ipython",
    "version": 3
   },
   "file_extension": ".py",
   "mimetype": "text/x-python",
   "name": "python",
   "nbconvert_exporter": "python",
   "pygments_lexer": "ipython3",
   "version": 3
  },
  "orig_nbformat": 2,
  "kernelspec": {
   "name": "python_defaultSpec_1595237910143",
   "display_name": "Python 3.7.4 64-bit ('base': conda)"
  }
 },
 "nbformat": 4,
 "nbformat_minor": 2
}